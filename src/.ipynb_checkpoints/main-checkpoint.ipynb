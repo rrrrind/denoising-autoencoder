{
 "cells": [
  {
   "cell_type": "markdown",
   "metadata": {},
   "source": [
    "# データの生成"
   ]
  },
  {
   "cell_type": "code",
   "execution_count": 230,
   "metadata": {},
   "outputs": [],
   "source": [
    "import numpy as np\n",
    "\n",
    "class Dataset(object):\n",
    "    def __init__(self,data_num,wave_len=200,noise_power=0.5):\n",
    "        self.wave_len = wave_len\n",
    "        self.data_num = data_num\n",
    "        self.noise_power = noise_power\n",
    "        \n",
    "        self.interval = np.arange(0,1,1/self.wave_len)\n",
    " \n",
    "    def generate(self):\n",
    "        xorg = np.zeros((self.data_num,self.wave_len))  # オリジナルの波形\n",
    "        xnois = np.zeros((self.data_num,self.wave_len)) # ノイズ込みの波形\n",
    "        \n",
    "        for i in range(self.data_num):\n",
    "            Ampl = np.random.rand()\n",
    "            freq = 20 * np.random.rand() + 10\n",
    "            norm = np.random.rand()\n",
    "            \n",
    "            xorg[i] = Ampl * np.sin(freq * self.interval) + norm\n",
    "            xnois[i] = xorg[i] + self.noise_power * np.random.rand(self.wave_len)\n",
    "        \n",
    "        return xorg, xnois"
   ]
  },
  {
   "cell_type": "code",
   "execution_count": 231,
   "metadata": {},
   "outputs": [],
   "source": [
    "import matplotlib.pyplot as plt\n",
    "data = dataset(10)\n",
    "a, b = data.generate()"
   ]
  },
  {
   "cell_type": "code",
   "execution_count": 233,
   "metadata": {},
   "outputs": [
    {
     "name": "stdout",
     "output_type": "stream",
     "text": [
      "[4.11444347 4.37596626 3.97522688 4.05060482 4.10630114 4.16261167\n",
      " 3.88691272 4.36846719 4.14841299 4.17089576]\n"
     ]
    },
    {
     "data": {
      "image/png": "[encoded data removed]",
      "text/plain": [
       "<Figure size 432x288 with 1 Axes>"
      ]
     },
     "metadata": {
      "needs_background": "light"
     },
     "output_type": "display_data"
    }
   ],
   "source": [
    "plt.plot(b[0])\n",
    "print(np.linalg.norm(a-b, ord=2, axis=1))"
   ]
  },
  {
   "cell_type": "markdown",
   "metadata": {},
   "source": [
    "# layer"
   ]
  },
  {
   "cell_type": "code",
   "execution_count": null,
   "metadata": {},
   "outputs": [],
   "source": [
    "import numpy as np\n",
    "\n",
    "class FullyConnectedLayer(object):\n",
    "    def __init__(self, input_dim, output_dim):\n",
    "        self.__weight = 0.5 * np.random.rand(output_dim,input_dim)\n",
    "        self.__bias = 0.5 * np.random.rand(output_dim)\n",
    "    \n",
    "    @property\n",
    "    def weight(self):\n",
    "        return self.__weight\n",
    "    \n",
    "    @weight.setter\n",
    "    def weight(self, new_weight):\n",
    "        self.__weight = new_weight\n",
    "        \n",
    "    @property\n",
    "    def bias(self):\n",
    "        return self.__bias\n",
    "    \n",
    "    @bias.setter\n",
    "    def bias(self, new_bias):\n",
    "        self.__bias = new_bias\n",
    "       \n",
    "        \n",
    "    def forward(self, x):\n",
    "        return np.dot(self.param.weight, x) + self.param.bias\n"
   ]
  },
  {
   "cell_type": "markdown",
   "metadata": {},
   "source": [
    "# activation_function"
   ]
  },
  {
   "cell_type": "code",
   "execution_count": null,
   "metadata": {},
   "outputs": [],
   "source": [
    "import numpy as np\n",
    "\n",
    "def sigmoid(self,x):\n",
    "    return 1.0 / (1.0 + np.exp(-x))"
   ]
  },
  {
   "cell_type": "markdown",
   "metadata": {},
   "source": [
    "# model"
   ]
  },
  {
   "cell_type": "code",
   "execution_count": null,
   "metadata": {},
   "outputs": [],
   "source": [
    "import numpy as np\n",
    "\n",
    "class DAEModel(object):\n",
    "    def __init__(self,layers=[200,120,200]):\n",
    "        self.layers = layers\n",
    "        \n",
    "        self.layer2 = FullyConnectedLayer(self.layers[0], self.layers[1])\n",
    "        self.layer3 = FullyConnectedLayer(self.layers[1], self.layers[2])\n",
    "        \n",
    "    def forward(self,input):\n",
    "        c1 = self.layer2.forward(input)\n",
    "        x2 = sigmoid(c1)\n",
    "        c2 = self.layer3.forward(x2)\n",
    "        output = sigmoid(c2)\n",
    "        return x2, output\n",
    "    "
   ]
  },
  {
   "cell_type": "markdown",
   "metadata": {},
   "source": [
    "# loss_function"
   ]
  },
  {
   "cell_type": "code",
   "execution_count": 234,
   "metadata": {},
   "outputs": [],
   "source": [
    "import numpy as np\n",
    "\n",
    "class LeastSquaresError(object):\n",
    "    def calc_loss(self,pred,ans):\n",
    "        return np.mean(np.linalg.norm(pred-ans, ord=2, axis=1))\n",
    "    \n",
    "    def update() "
   ]
  },
  {
   "cell_type": "markdown",
   "metadata": {},
   "source": [
    "# 更新"
   ]
  },
  {
   "cell_type": "code",
   "execution_count": null,
   "metadata": {},
   "outputs": [],
   "source": [
    "\n"
   ]
  }
 ],
 "metadata": {
  "kernelspec": {
   "display_name": "Python 3",
   "language": "python",
   "name": "python3"
  },
  "language_info": {
   "codemirror_mode": {
    "name": "ipython",
    "version": 3
   },
   "file_extension": ".py",
   "mimetype": "text/x-python",
   "name": "python",
   "nbconvert_exporter": "python",
   "pygments_lexer": "ipython3",
   "version": "3.6.9"
  },
  "toc-autonumbering": true,
  "toc-showmarkdowntxt": false
 },
 "nbformat": 4,
 "nbformat_minor": 4
}
